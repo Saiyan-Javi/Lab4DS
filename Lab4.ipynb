{
 "cells": [
  {
   "cell_type": "markdown",
   "id": "a2247c1e",
   "metadata": {},
   "source": [
    "## Laboratorio 4 \n",
    "### Data Science, Sección 40\n",
    "Javier Ovalle, 22103\n",
    "\n",
    "José Ángel Morales 22689\n",
    "\n",
    "Ricardo Morales 22289"
   ]
  },
  {
   "cell_type": "code",
   "execution_count": null,
   "id": "d2f09946",
   "metadata": {},
   "outputs": [],
   "source": []
  }
 ],
 "metadata": {
  "kernelspec": {
   "display_name": "Python 3",
   "language": "python",
   "name": "python3"
  },
  "language_info": {
   "name": "python",
   "version": "3.12.7"
  }
 },
 "nbformat": 4,
 "nbformat_minor": 5
}
